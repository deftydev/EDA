{
  "nbformat": 4,
  "nbformat_minor": 0,
  "metadata": {
    "colab": {
      "provenance": [],
      "gpuType": "T4"
    },
    "kernelspec": {
      "name": "python3",
      "display_name": "Python 3"
    },
    "language_info": {
      "name": "python"
    },
    "accelerator": "GPU"
  },
  "cells": [
    {
      "cell_type": "code",
      "execution_count": 1,
      "metadata": {
        "id": "NB3gtJcbBJBp"
      },
      "outputs": [],
      "source": [
        "import seaborn as sns\n",
        "import numpy as np\n",
        "import pandas as pd\n",
        "import matplotlib.pyplot as plt\n",
        "\n",
        "%matplotlib inline"
      ]
    },
    {
      "cell_type": "code",
      "source": [
        "df= pd.read_csv('aps_failure_training_set1.csv',na_values='na')"
      ],
      "metadata": {
        "id": "1U8PhHg-Bxtm"
      },
      "execution_count": 2,
      "outputs": []
    },
    {
      "cell_type": "code",
      "source": [
        "df.shape"
      ],
      "metadata": {
        "colab": {
          "base_uri": "https://localhost:8080/"
        },
        "id": "GllJ2kv7Bxv5",
        "outputId": "14053608-d545-4739-c0f8-049baa6479d4"
      },
      "execution_count": 3,
      "outputs": [
        {
          "output_type": "execute_result",
          "data": {
            "text/plain": [
              "(36188, 171)"
            ]
          },
          "metadata": {},
          "execution_count": 3
        }
      ]
    },
    {
      "cell_type": "code",
      "source": [
        "for i in df.columns:\n",
        "    print(f\" {i} is having {df[i].isnull().sum()} null values\")"
      ],
      "metadata": {
        "colab": {
          "base_uri": "https://localhost:8080/"
        },
        "id": "WIDO_URDBxyZ",
        "outputId": "1b3ac164-ac4c-41c1-f17d-4a0ad8ac06a1"
      },
      "execution_count": 4,
      "outputs": [
        {
          "output_type": "stream",
          "name": "stdout",
          "text": [
            " class is having 0 null values\n",
            " aa_000 is having 0 null values\n",
            " ab_000 is having 27896 null values\n",
            " ac_000 is having 2141 null values\n",
            " ad_000 is having 9200 null values\n",
            " ae_000 is having 1587 null values\n",
            " af_000 is having 1587 null values\n",
            " ag_000 is having 379 null values\n",
            " ag_001 is having 379 null values\n",
            " ag_002 is having 379 null values\n",
            " ag_003 is having 379 null values\n",
            " ag_004 is having 379 null values\n",
            " ag_005 is having 379 null values\n",
            " ag_006 is having 379 null values\n",
            " ag_007 is having 379 null values\n",
            " ag_008 is having 379 null values\n",
            " ag_009 is having 379 null values\n",
            " ah_000 is having 382 null values\n",
            " ai_000 is having 375 null values\n",
            " aj_000 is having 375 null values\n",
            " ak_000 is having 2783 null values\n",
            " al_000 is having 382 null values\n",
            " am_0 is having 375 null values\n",
            " an_000 is having 382 null values\n",
            " ao_000 is having 345 null values\n",
            " ap_000 is having 382 null values\n",
            " aq_000 is having 345 null values\n",
            " ar_000 is having 1729 null values\n",
            " as_000 is having 375 null values\n",
            " at_000 is having 375 null values\n",
            " au_000 is having 375 null values\n",
            " av_000 is having 1588 null values\n",
            " ax_000 is having 1589 null values\n",
            " ay_000 is having 379 null values\n",
            " ay_001 is having 379 null values\n",
            " ay_002 is having 379 null values\n",
            " ay_003 is having 379 null values\n",
            " ay_004 is having 379 null values\n",
            " ay_005 is having 379 null values\n",
            " ay_006 is having 379 null values\n",
            " ay_007 is having 379 null values\n",
            " ay_008 is having 379 null values\n",
            " ay_009 is having 379 null values\n",
            " az_000 is having 379 null values\n",
            " az_001 is having 379 null values\n",
            " az_002 is having 379 null values\n",
            " az_003 is having 379 null values\n",
            " az_004 is having 379 null values\n",
            " az_005 is having 379 null values\n",
            " az_006 is having 379 null values\n",
            " az_007 is having 379 null values\n",
            " az_008 is having 379 null values\n",
            " az_009 is having 379 null values\n",
            " ba_000 is having 386 null values\n",
            " ba_001 is having 386 null values\n",
            " ba_002 is having 386 null values\n",
            " ba_003 is having 386 null values\n",
            " ba_004 is having 386 null values\n",
            " ba_005 is having 386 null values\n",
            " ba_006 is having 386 null values\n",
            " ba_007 is having 386 null values\n",
            " ba_008 is having 386 null values\n",
            " ba_009 is having 386 null values\n",
            " bb_000 is having 382 null values\n",
            " bc_000 is having 1731 null values\n",
            " bd_000 is having 1732 null values\n",
            " be_000 is having 1590 null values\n",
            " bf_000 is having 1587 null values\n",
            " bg_000 is having 382 null values\n",
            " bh_000 is having 382 null values\n",
            " bi_000 is having 345 null values\n",
            " bj_000 is having 345 null values\n",
            " bk_000 is having 13823 null values\n",
            " bl_000 is having 16335 null values\n",
            " bm_000 is having 23710 null values\n",
            " bn_000 is having 26331 null values\n",
            " bo_000 is having 27696 null values\n",
            " bp_000 is having 28514 null values\n",
            " bq_000 is having 29132 null values\n",
            " br_000 is having 29461 null values\n",
            " bs_000 is having 419 null values\n",
            " bt_000 is having 86 null values\n",
            " bu_000 is having 403 null values\n",
            " bv_000 is having 403 null values\n",
            " bx_000 is having 1895 null values\n",
            " by_000 is having 269 null values\n",
            " bz_000 is having 1729 null values\n",
            " ca_000 is having 2749 null values\n",
            " cb_000 is having 419 null values\n",
            " cc_000 is having 1894 null values\n",
            " cd_000 is having 402 null values\n",
            " ce_000 is having 1590 null values\n",
            " cf_000 is having 9200 null values\n",
            " cg_000 is having 9200 null values\n",
            " ch_000 is having 9200 null values\n",
            " ci_000 is having 203 null values\n",
            " cj_000 is having 203 null values\n",
            " ck_000 is having 203 null values\n",
            " cl_000 is having 5765 null values\n",
            " cm_000 is having 5981 null values\n",
            " cn_000 is having 385 null values\n",
            " cn_001 is having 385 null values\n",
            " cn_002 is having 385 null values\n",
            " cn_003 is having 385 null values\n",
            " cn_004 is having 385 null values\n",
            " cn_005 is having 385 null values\n",
            " cn_006 is having 385 null values\n",
            " cn_007 is having 385 null values\n",
            " cn_008 is having 385 null values\n",
            " cn_009 is having 385 null values\n",
            " co_000 is having 9200 null values\n",
            " cp_000 is having 1730 null values\n",
            " cq_000 is having 403 null values\n",
            " cr_000 is having 27896 null values\n",
            " cs_000 is having 378 null values\n",
            " cs_001 is having 378 null values\n",
            " cs_002 is having 378 null values\n",
            " cs_003 is having 378 null values\n",
            " cs_004 is having 378 null values\n",
            " cs_005 is having 378 null values\n",
            " cs_006 is having 378 null values\n",
            " cs_007 is having 378 null values\n",
            " cs_008 is having 378 null values\n",
            " cs_009 is having 378 null values\n",
            " ct_000 is having 8522 null values\n",
            " cu_000 is having 8522 null values\n",
            " cv_000 is having 8522 null values\n",
            " cx_000 is having 8522 null values\n",
            " cy_000 is having 8522 null values\n",
            " cz_000 is having 8522 null values\n",
            " da_000 is having 8522 null values\n",
            " db_000 is having 8522 null values\n",
            " dc_000 is having 8522 null values\n",
            " dd_000 is having 1591 null values\n",
            " de_000 is having 1730 null values\n",
            " df_000 is having 2545 null values\n",
            " dg_000 is having 2545 null values\n",
            " dh_000 is having 2545 null values\n",
            " di_000 is having 2543 null values\n",
            " dj_000 is having 2544 null values\n",
            " dk_000 is having 2544 null values\n",
            " dl_000 is having 2545 null values\n",
            " dm_000 is having 2546 null values\n",
            " dn_000 is having 403 null values\n",
            " do_000 is having 1730 null values\n",
            " dp_000 is having 1732 null values\n",
            " dq_000 is having 1732 null values\n",
            " dr_000 is having 1731 null values\n",
            " ds_000 is having 1732 null values\n",
            " dt_000 is having 1732 null values\n",
            " du_000 is having 1731 null values\n",
            " dv_000 is having 1731 null values\n",
            " dx_000 is having 1729 null values\n",
            " dy_000 is having 1730 null values\n",
            " dz_000 is having 1729 null values\n",
            " ea_000 is having 1729 null values\n",
            " eb_000 is having 2544 null values\n",
            " ec_00 is having 6209 null values\n",
            " ed_000 is having 5765 null values\n",
            " ee_000 is having 379 null values\n",
            " ee_001 is having 379 null values\n",
            " ee_002 is having 379 null values\n",
            " ee_003 is having 379 null values\n",
            " ee_004 is having 379 null values\n",
            " ee_005 is having 379 null values\n",
            " ee_006 is having 379 null values\n",
            " ee_007 is having 379 null values\n",
            " ee_008 is having 379 null values\n",
            " ee_009 is having 379 null values\n",
            " ef_000 is having 1730 null values\n",
            " eg_000 is having 1729 null values\n"
          ]
        }
      ]
    },
    {
      "cell_type": "code",
      "source": [
        "numeric_features = [feature for feature in df.columns if df[feature].dtype != 'O']\n",
        "categorical_features = [feature for feature in df.columns if df[feature].dtype == 'O']\n",
        "\n",
        "\n",
        "print('We have {} numerical features : {}'.format(len(numeric_features), numeric_features))\n",
        "print('\\nWe have {} categorical features : {}'.format(len(categorical_features), categorical_features))"
      ],
      "metadata": {
        "colab": {
          "base_uri": "https://localhost:8080/"
        },
        "id": "pAwH2foDBx1K",
        "outputId": "17ce79ee-5322-4cb3-a5a7-2168b4d91927"
      },
      "execution_count": 5,
      "outputs": [
        {
          "output_type": "stream",
          "name": "stdout",
          "text": [
            "We have 170 numerical features : ['aa_000', 'ab_000', 'ac_000', 'ad_000', 'ae_000', 'af_000', 'ag_000', 'ag_001', 'ag_002', 'ag_003', 'ag_004', 'ag_005', 'ag_006', 'ag_007', 'ag_008', 'ag_009', 'ah_000', 'ai_000', 'aj_000', 'ak_000', 'al_000', 'am_0', 'an_000', 'ao_000', 'ap_000', 'aq_000', 'ar_000', 'as_000', 'at_000', 'au_000', 'av_000', 'ax_000', 'ay_000', 'ay_001', 'ay_002', 'ay_003', 'ay_004', 'ay_005', 'ay_006', 'ay_007', 'ay_008', 'ay_009', 'az_000', 'az_001', 'az_002', 'az_003', 'az_004', 'az_005', 'az_006', 'az_007', 'az_008', 'az_009', 'ba_000', 'ba_001', 'ba_002', 'ba_003', 'ba_004', 'ba_005', 'ba_006', 'ba_007', 'ba_008', 'ba_009', 'bb_000', 'bc_000', 'bd_000', 'be_000', 'bf_000', 'bg_000', 'bh_000', 'bi_000', 'bj_000', 'bk_000', 'bl_000', 'bm_000', 'bn_000', 'bo_000', 'bp_000', 'bq_000', 'br_000', 'bs_000', 'bt_000', 'bu_000', 'bv_000', 'bx_000', 'by_000', 'bz_000', 'ca_000', 'cb_000', 'cc_000', 'cd_000', 'ce_000', 'cf_000', 'cg_000', 'ch_000', 'ci_000', 'cj_000', 'ck_000', 'cl_000', 'cm_000', 'cn_000', 'cn_001', 'cn_002', 'cn_003', 'cn_004', 'cn_005', 'cn_006', 'cn_007', 'cn_008', 'cn_009', 'co_000', 'cp_000', 'cq_000', 'cr_000', 'cs_000', 'cs_001', 'cs_002', 'cs_003', 'cs_004', 'cs_005', 'cs_006', 'cs_007', 'cs_008', 'cs_009', 'ct_000', 'cu_000', 'cv_000', 'cx_000', 'cy_000', 'cz_000', 'da_000', 'db_000', 'dc_000', 'dd_000', 'de_000', 'df_000', 'dg_000', 'dh_000', 'di_000', 'dj_000', 'dk_000', 'dl_000', 'dm_000', 'dn_000', 'do_000', 'dp_000', 'dq_000', 'dr_000', 'ds_000', 'dt_000', 'du_000', 'dv_000', 'dx_000', 'dy_000', 'dz_000', 'ea_000', 'eb_000', 'ec_00', 'ed_000', 'ee_000', 'ee_001', 'ee_002', 'ee_003', 'ee_004', 'ee_005', 'ee_006', 'ee_007', 'ee_008', 'ee_009', 'ef_000', 'eg_000']\n",
            "\n",
            "We have 1 categorical features : ['class']\n"
          ]
        }
      ]
    },
    {
      "cell_type": "code",
      "source": [
        "df['class'].unique()"
      ],
      "metadata": {
        "colab": {
          "base_uri": "https://localhost:8080/"
        },
        "id": "juFgMs_IBx3Y",
        "outputId": "01bad704-9eaa-43ae-ce0e-7fee1b319c8e"
      },
      "execution_count": 6,
      "outputs": [
        {
          "output_type": "execute_result",
          "data": {
            "text/plain": [
              "array(['pos', 'neg'], dtype=object)"
            ]
          },
          "metadata": {},
          "execution_count": 6
        }
      ]
    },
    {
      "cell_type": "code",
      "source": [
        "df['class'].value_counts()"
      ],
      "metadata": {
        "colab": {
          "base_uri": "https://localhost:8080/"
        },
        "id": "j_61SeTdBx52",
        "outputId": "ab39429b-b86b-4ac9-84b6-226b2c264848"
      },
      "execution_count": 7,
      "outputs": [
        {
          "output_type": "execute_result",
          "data": {
            "text/plain": [
              "neg    35188\n",
              "pos     1000\n",
              "Name: class, dtype: int64"
            ]
          },
          "metadata": {},
          "execution_count": 7
        }
      ]
    },
    {
      "cell_type": "code",
      "source": [
        "df['class']=df['class'].map({'neg':0,'pos':1})"
      ],
      "metadata": {
        "id": "Qzbe_l8UBx8L"
      },
      "execution_count": 8,
      "outputs": []
    },
    {
      "cell_type": "code",
      "source": [
        "df['class'].value_counts()"
      ],
      "metadata": {
        "colab": {
          "base_uri": "https://localhost:8080/"
        },
        "id": "sN4nvSqOBx-Y",
        "outputId": "45f7d0a1-65b7-4fa3-8923-154ce07555b5"
      },
      "execution_count": 9,
      "outputs": [
        {
          "output_type": "execute_result",
          "data": {
            "text/plain": [
              "0    35188\n",
              "1     1000\n",
              "Name: class, dtype: int64"
            ]
          },
          "metadata": {},
          "execution_count": 9
        }
      ]
    },
    {
      "cell_type": "code",
      "source": [
        "# Plotting Missing values count for each column\n",
        "fig, ax = plt.subplots(figsize=(15,5))\n",
        "\n",
        "#missing dataframe is created which contains columns with its percentage missing values as values\n",
        "missing = df.isna().sum().div(df.shape[0]).mul(100).to_frame().sort_values(by=0, ascending = False)\n",
        "\n",
        "#it is used to form a bar plot\n",
        "ax.bar(missing.index, missing.values.T[0])\n",
        "ax.set_xlabel('Columns')\n",
        "ax.set_ylabel('Percentage of Missing Values')\n",
        "ax.set_title('Missing Values by Column')\n",
        "plt.show()"
      ],
      "metadata": {
        "colab": {
          "base_uri": "https://localhost:8080/",
          "height": 460
        },
        "id": "5djJghvkByAx",
        "outputId": "e976cd31-b2ae-43e4-beb6-584a4ce1f48b"
      },
      "execution_count": 10,
      "outputs": [
        {
          "output_type": "display_data",
          "data": {
            "text/plain": [
              "<Figure size 1500x500 with 1 Axes>"
            ],
            "image/png": "[encoded data removed]"
          },
          "metadata": {}
        }
      ]
    },
    {
      "cell_type": "code",
      "source": [],
      "metadata": {
        "id": "jFazVLHXByDB"
      },
      "execution_count": 10,
      "outputs": []
    },
    {
      "cell_type": "markdown",
      "source": [
        "# Description\n",
        "     df.isna()              # Check for missing values, returns a DataFrame of boolean values\n",
        "    .sum()             # Sum the missing values for each column\n",
        "    .div(df.shape[0])  # Divide the sums by the total number of rows in the DataFrame\n",
        "    .mul(100)          # Multiply by 100 to get the percentage\n",
        "    .to_frame()        # Convert the result to a DataFrame\n",
        "    .sort_values(by=0, ascending=False)  # Sort the DataFrame by the percentage of missing values in descending order\n"
      ],
      "metadata": {
        "id": "e7ExscXVCJRl"
      }
    },
    {
      "cell_type": "code",
      "source": [
        "drop_= missing[missing.values > 70]"
      ],
      "metadata": {
        "id": "uUIJAQB-ByFW"
      },
      "execution_count": 11,
      "outputs": []
    },
    {
      "cell_type": "code",
      "source": [
        "drop_.index"
      ],
      "metadata": {
        "colab": {
          "base_uri": "https://localhost:8080/"
        },
        "id": "WcwvFRdhByIO",
        "outputId": "209b337e-08ce-4b10-e57c-16dd065873ff"
      },
      "execution_count": 12,
      "outputs": [
        {
          "output_type": "execute_result",
          "data": {
            "text/plain": [
              "Index(['br_000', 'bq_000', 'bp_000', 'ab_000', 'cr_000', 'bo_000', 'bn_000'], dtype='object')"
            ]
          },
          "metadata": {},
          "execution_count": 12
        }
      ]
    },
    {
      "cell_type": "code",
      "source": [
        "df.drop(list(drop_.index), axis=1, inplace=True)"
      ],
      "metadata": {
        "id": "_X_TsImACSCZ"
      },
      "execution_count": 13,
      "outputs": []
    },
    {
      "cell_type": "code",
      "source": [
        "df.shape"
      ],
      "metadata": {
        "colab": {
          "base_uri": "https://localhost:8080/"
        },
        "id": "PM1YidJhCSEq",
        "outputId": "3b7abab4-9539-4097-cca8-7054d693eb1a"
      },
      "execution_count": 14,
      "outputs": [
        {
          "output_type": "execute_result",
          "data": {
            "text/plain": [
              "(36188, 164)"
            ]
          },
          "metadata": {},
          "execution_count": 14
        }
      ]
    },
    {
      "cell_type": "markdown",
      "source": [
        "#output class is highly imbalanced (smote + tomek)\n",
        "\n",
        "#    Step 2: Choose a minority class sample\n",
        "        |\n",
        "        V\n",
        "  # Step 3: Find k nearest neighbors\n",
        "        |\n",
        "        V\n",
        "  # Step 4: Generate synthetic samples\n",
        "        |\n",
        "        V\n",
        "  # Step 5: Repeat the process\n",
        "        |\n",
        "        V\n",
        " #  Step 1: Identify pairs of instances\n",
        "        |\n",
        "        V\n",
        "  # Step 2: Measure distance between pairs\n",
        "        |\n",
        "        V\n",
        "  # Step 3: Identify Tomek links\n",
        "\n",
        "\n",
        "**Report**\n",
        "- The target classes are highly imbalanced\n",
        "- Class imbalance is a scenario that arises when we have unequal distribution of class in a dataset i.e. the no. of data points in the negative class (majority class) very large compared to that of the positive class (minority class)\n",
        "- If the imbalanced data is not treated beforehand, then this will degrade the performance of the classifier model.\n",
        "- Hence we should handle imbalanced data with certain methods.\n",
        "\n",
        "**How to handle Imbalance Data ?**\n",
        "\n",
        "- Resampling data is one of the most commonly preferred approaches to deal with an imbalanced dataset. There are broadly two types of methods for this i) Undersampling ii) Oversampling. In most cases, oversampling is preferred over undersampling techniques. The reason being, in undersampling we tend to remove instances from data that may be carrying some important information.\n",
        "- **SMOTE:** Synthetic Minority Oversampling Technique\n",
        "- SMOTE is an oversampling technique where the synthetic samples are generated for the minority class.\n",
        "- Hybridization techniques involve combining both undersampling and oversampling techniques. This is done to optimize the performance of classifier models for the samples created as part of these techniques.\n",
        "- It only duplicates the data and it won't add and new information. Hence we look at some different techniques.\n"
      ],
      "metadata": {
        "id": "z6JdK7B3Ca6O"
      }
    },
    {
      "cell_type": "code",
      "source": [
        "def total_cost(y_true, y_pred):\n",
        "\n",
        "    tn, fp, fn, tp = confusion_matrix(y_true, y_pred).ravel()\n",
        "    cost = 10*fp + 500*fn\n",
        "    return cost"
      ],
      "metadata": {
        "id": "8hd7MJb_CSG6"
      },
      "execution_count": 15,
      "outputs": []
    },
    {
      "cell_type": "code",
      "source": [
        "# numeric_features = [feature for feature in df.columns if df[feature].dtype != 'O']\n",
        "\n",
        "# plt.figure(figsize=(15, 100))\n",
        "# for i, col in enumerate(numeric_features):\n",
        "#     plt.subplot(60, 3, i+1)\n",
        "#     sns.distplot(x=df[col], color='indianred')\n",
        "#     plt.xlabel(col, weight='bold')\n",
        "#     plt.tight_layout()"
      ],
      "metadata": {
        "id": "-uy5XHM8CSM5"
      },
      "execution_count": 16,
      "outputs": []
    },
    {
      "cell_type": "code",
      "source": [
        "from statistics import mean\n",
        "import matplotlib.pyplot as plt\n",
        "import warnings\n",
        "from sklearn.preprocessing import PowerTransformer\n",
        "import numpy as np\n",
        "from sklearn.preprocessing import LabelEncoder\n",
        "from sklearn.pipeline import Pipeline\n",
        "from sklearn.utils import resample\n",
        "\n",
        "from sklearn.linear_model import LogisticRegression\n",
        "from sklearn.ensemble import RandomForestClassifier, AdaBoostClassifier, GradientBoostingClassifier\n",
        "from sklearn.neighbors import KNeighborsClassifier\n",
        "from sklearn.tree import DecisionTreeClassifier\n",
        "from sklearn.svm import SVC\n",
        "from sklearn.metrics import accuracy_score, classification_report,ConfusionMatrixDisplay, \\\n",
        "                            precision_score, recall_score, f1_score, roc_auc_score,roc_curve,confusion_matrix\n",
        "\n",
        "\n",
        "from sklearn import metrics\n",
        "from sklearn.model_selection import  train_test_split, RepeatedStratifiedKFold, cross_val_score,StratifiedKFold\n",
        "from sklearn.preprocessing import OneHotEncoder, MinMaxScaler\n",
        "from sklearn.compose import ColumnTransformer\n",
        "from sklearn.impute import SimpleImputer, KNNImputer\n",
        "from xgboost import XGBClassifier\n",
        "from sklearn.preprocessing import StandardScaler, MinMaxScaler,RobustScaler\n",
        "from sklearn.compose import ColumnTransformer\n",
        "\n",
        "\n",
        "warnings.filterwarnings(\"ignore\")\n",
        "%matplotlib inline"
      ],
      "metadata": {
        "id": "vRfCvnARCSO0"
      },
      "execution_count": 17,
      "outputs": []
    },
    {
      "cell_type": "code",
      "source": [
        "def evaluate_clf(true, predicted):\n",
        "    acc = accuracy_score(true, predicted) # Calculate Accuracy\n",
        "    f1 = f1_score(true, predicted) # Calculate F1-score\n",
        "    precision = precision_score(true, predicted) # Calculate Precision\n",
        "    recall = recall_score(true, predicted)  # Calculate Recall\n",
        "    roc_auc = roc_auc_score(true, predicted) #Calculate Roc\n",
        "    return acc, f1 , precision, recall, roc_auc"
      ],
      "metadata": {
        "id": "Yz1ui0SICSQZ"
      },
      "execution_count": 18,
      "outputs": []
    },
    {
      "cell_type": "code",
      "source": [
        "def evaluate_models(X, y, models):\n",
        "    # separate dataset into train and test\n",
        "    X_train, X_test, y_train, y_test = train_test_split(X,y,test_size=0.2,random_state=42)\n",
        "\n",
        "    cost_list=[]\n",
        "    models_list = []\n",
        "    accuracy_list = []\n",
        "\n",
        "    for i in range(len(list(models))):\n",
        "        model = list(models.values())[i]\n",
        "        model.fit(X_train, y_train) # Train model\n",
        "\n",
        "        # Make predictions\n",
        "        y_train_pred = model.predict(X_train)\n",
        "        y_test_pred = model.predict(X_test)\n",
        "\n",
        "        # Training set performance\n",
        "        model_train_accuracy, model_train_f1,model_train_precision,\\\n",
        "        model_train_recall,model_train_rocauc_score=evaluate_clf(y_train ,y_train_pred)\n",
        "        train_cost = total_cost(y_train, y_train_pred)\n",
        "\n",
        "\n",
        "        # Test set performance\n",
        "        model_test_accuracy,model_test_f1,model_test_precision,\\\n",
        "        model_test_recall,model_test_rocauc_score=evaluate_clf(y_test, y_test_pred)\n",
        "        test_cost = total_cost(y_test, y_test_pred)\n",
        "\n",
        "        print(list(models.keys())[i])\n",
        "        models_list.append(list(models.keys())[i])\n",
        "\n",
        "        print('Model performance for Training set')\n",
        "        print(\"- Accuracy: {:.4f}\".format(model_train_accuracy))\n",
        "        print('- F1 score: {:.4f}'.format(model_train_f1))\n",
        "        print('- Precision: {:.4f}'.format(model_train_precision))\n",
        "        print('- Recall: {:.4f}'.format(model_train_recall))\n",
        "        print('- Roc Auc Score: {:.4f}'.format(model_train_rocauc_score))\n",
        "        print(f'- COST: {train_cost}.')\n",
        "\n",
        "        print('----------------------------------')\n",
        "\n",
        "        print('Model performance for Test set')\n",
        "        print('- Accuracy: {:.4f}'.format(model_test_accuracy))\n",
        "        print('- F1 score: {:.4f}'.format(model_test_f1))\n",
        "        print('- Precision: {:.4f}'.format(model_test_precision))\n",
        "        print('- Recall: {:.4f}'.format(model_test_recall))\n",
        "        print('- Roc Auc Score: {:.4f}'.format(model_test_rocauc_score))\n",
        "        print(f'- COST: {test_cost}.')\n",
        "        cost_list.append(test_cost)\n",
        "        print('='*35)\n",
        "        print('\\n')\n",
        "\n",
        "    report=pd.DataFrame(list(zip(models_list, cost_list)), columns=['Model Name', 'Cost']).sort_values(by=[\"Cost\"])\n",
        "\n",
        "    return report"
      ],
      "metadata": {
        "id": "fB3wV5wVCSSO"
      },
      "execution_count": 19,
      "outputs": []
    },
    {
      "cell_type": "markdown",
      "source": [
        "**Tomek Links:**\n",
        "- Tomek links are pairs of instances from different classes that are very close to each other. These pairs represent examples that are potentially outliers or noisy samples. The removal of instances involved in Tomek links can help in better separating the classes and improving the performance of the classifier.\n",
        "\n",
        "**Why Robust Scaler and not Minmax?**\n",
        "- because most of the feature has outliers. So Minmax will scale data according to Max values which is outlier.\n",
        "- This Scaler removes the median and scales the data according to the quantile range (defaults to IQR: Interquartile Range). The IQR is the range between the 1st quartile (25th quantile) and the 3rd quartile (75th quantile)."
      ],
      "metadata": {
        "id": "nazPgdoNDDlK"
      }
    },
    {
      "cell_type": "code",
      "source": [
        "# Splitting X and y for all Experiments\n",
        "X= df.drop('class', axis=1)\n",
        "y = df['class']\n",
        "\n",
        "robustscaler = RobustScaler()\n",
        "X1 = robustscaler.fit_transform(X)"
      ],
      "metadata": {
        "id": "pfT8GltHCST_"
      },
      "execution_count": 20,
      "outputs": []
    },
    {
      "cell_type": "markdown",
      "source": [],
      "metadata": {
        "id": "N7Bck_rxDLr6"
      }
    },
    {
      "cell_type": "code",
      "source": [
        "results=[]\n",
        "\n",
        "imputer = KNNImputer(n_neighbors=5, weights='uniform', metric='nan_euclidean')\n",
        "stratified_kfold = StratifiedKFold(n_splits=5)\n",
        "strategies = [str(i) for i in [1,3,5]]\n",
        "for s in strategies:\n",
        "    pipeline = Pipeline(steps=[('i', KNNImputer(n_neighbors=int(s))), ('m', LogisticRegression())])\n",
        "    scores = cross_val_score(pipeline, X1, y, scoring='accuracy', cv=2, n_jobs=-1)\n",
        "    results.append(scores)\n",
        "    print('n_neighbors= %s || accuracy (%.4f)' % (s , mean(scores)))"
      ],
      "metadata": {
        "colab": {
          "base_uri": "https://localhost:8080/"
        },
        "id": "_cf5gEjQCSV7",
        "outputId": "daac8513-3eac-433a-a6ab-f94bd769dbdc"
      },
      "execution_count": 21,
      "outputs": [
        {
          "output_type": "stream",
          "name": "stdout",
          "text": [
            "n_neighbors= 1 || accuracy (0.7314)\n",
            "n_neighbors= 3 || accuracy (0.7234)\n",
            "n_neighbors= 5 || accuracy (0.7428)\n"
          ]
        }
      ]
    },
    {
      "cell_type": "code",
      "source": [
        "num_features = X.select_dtypes(exclude=\"object\").columns\n",
        "\n",
        "# Fit the KNN imputer with selected K-value\n",
        "knn_pipeline = Pipeline(steps=[\n",
        "    ('imputer', KNNImputer(n_neighbors=3)),\n",
        "    ('RobustScaler', RobustScaler())\n",
        "])"
      ],
      "metadata": {
        "id": "CT2TgSaXeOT5"
      },
      "execution_count": 22,
      "outputs": []
    },
    {
      "cell_type": "code",
      "source": [
        "X_knn =knn_pipeline.fit_transform(X)"
      ],
      "metadata": {
        "id": "1eWH278AeO7-"
      },
      "execution_count": 23,
      "outputs": []
    },
    {
      "cell_type": "markdown",
      "source": [
        " **SMOTE+TOMEK** is one of such a hybrid technique that aims to clean overlapping data points for each of the classes distributed in sample space.\n",
        "\n",
        " - This method combines the SMOTE ability to generate synthetic data for minority class and Tomek Links ability to remove the data that are identified as Tomek links from the majority class\n",
        "\n",
        " - To add new data of minority class\n",
        " 1. Choose random data from the minority class.\n",
        " 2. Calculate the distance between the random data and its k nearest neighbors.\n",
        " 3. Multiply the difference with a random number between 0 and 1, then add the result to the minority class as a synthetic sample.\n",
        " 4. Repeat step number 2–3 until the desired proportion of minority class is met.\n",
        "\n",
        " - To remove the tomek links of the majority class\n",
        " 1. Choose random data from the majority class.\n",
        " 2. If the random data’s nearest neighbor is the data from the minority class (i.e. create the Tomek Link), then remove the Tomek Link.\n",
        "\n",
        " - This is method instead of adding duplicate data it synthesises the new data based on the already avalialble classes. Hence we choose this as our imputer method for this problem."
      ],
      "metadata": {
        "id": "gTrq0hcQeRjY"
      }
    },
    {
      "cell_type": "code",
      "source": [
        "from imblearn.combine import SMOTETomek\n",
        "\n",
        "# Resampling the minority class. The strategy can be changed as required.\n",
        "smt = SMOTETomek(random_state=42,sampling_strategy='minority',n_jobs=-1)\n",
        "# Fit the model to generate the data.\n",
        "X_res, y_res = smt.fit_resample(X_knn, y)"
      ],
      "metadata": {
        "id": "VU43daAAeUA4"
      },
      "execution_count": 24,
      "outputs": []
    },
    {
      "cell_type": "code",
      "source": [
        "# Dictionary which contains models for experiment\n",
        "models = {\n",
        "    \"Random Forest\": RandomForestClassifier(),\n",
        "    \"Decision Tree\": DecisionTreeClassifier(),\n",
        "    \"Gradient Boosting\": GradientBoostingClassifier(),\n",
        "    \"Logistic Regression\": LogisticRegression(),\n",
        "     \"K-Neighbors Classifier\": KNeighborsClassifier(),\n",
        "    \"XGBClassifier\": XGBClassifier(),\n",
        "    \"AdaBoost Classifier\": AdaBoostClassifier()\n",
        "}"
      ],
      "metadata": {
        "id": "vXvgQPtNecAK"
      },
      "execution_count": 25,
      "outputs": []
    },
    {
      "cell_type": "code",
      "source": [
        "report_knn = evaluate_models(X_res, y_res, models)"
      ],
      "metadata": {
        "colab": {
          "base_uri": "https://localhost:8080/"
        },
        "id": "7AQLQZfaeeaS",
        "outputId": "0b0163b4-7583-4dcf-e782-25960e833da1"
      },
      "execution_count": 26,
      "outputs": [
        {
          "output_type": "stream",
          "name": "stdout",
          "text": [
            "Random Forest\n",
            "Model performance for Training set\n",
            "- Accuracy: 1.0000\n",
            "- F1 score: 1.0000\n",
            "- Precision: 1.0000\n",
            "- Recall: 1.0000\n",
            "- Roc Auc Score: 1.0000\n",
            "- COST: 0.\n",
            "----------------------------------\n",
            "Model performance for Test set\n",
            "- Accuracy: 0.9928\n",
            "- F1 score: 0.9928\n",
            "- Precision: 0.9894\n",
            "- Recall: 0.9963\n",
            "- Roc Auc Score: 0.9928\n",
            "- COST: 13750.\n",
            "===================================\n",
            "\n",
            "\n",
            "Decision Tree\n",
            "Model performance for Training set\n",
            "- Accuracy: 1.0000\n",
            "- F1 score: 1.0000\n",
            "- Precision: 1.0000\n",
            "- Recall: 1.0000\n",
            "- Roc Auc Score: 1.0000\n",
            "- COST: 0.\n",
            "----------------------------------\n",
            "Model performance for Test set\n",
            "- Accuracy: 0.9871\n",
            "- F1 score: 0.9872\n",
            "- Precision: 0.9823\n",
            "- Recall: 0.9920\n",
            "- Roc Auc Score: 0.9871\n",
            "- COST: 29250.\n",
            "===================================\n",
            "\n",
            "\n",
            "Gradient Boosting\n",
            "Model performance for Training set\n",
            "- Accuracy: 0.9839\n",
            "- F1 score: 0.9840\n",
            "- Precision: 0.9803\n",
            "- Recall: 0.9876\n",
            "- Roc Auc Score: 0.9839\n",
            "- COST: 179060.\n",
            "----------------------------------\n",
            "Model performance for Test set\n",
            "- Accuracy: 0.9843\n",
            "- F1 score: 0.9844\n",
            "- Precision: 0.9811\n",
            "- Recall: 0.9876\n",
            "- Roc Auc Score: 0.9843\n",
            "- COST: 44830.\n",
            "===================================\n",
            "\n",
            "\n",
            "Logistic Regression\n",
            "Model performance for Training set\n",
            "- Accuracy: 0.5894\n",
            "- F1 score: 0.6936\n",
            "- Precision: 0.5532\n",
            "- Recall: 0.9295\n",
            "- Roc Auc Score: 0.5893\n",
            "- COST: 1200670.\n",
            "----------------------------------\n",
            "Model performance for Test set\n",
            "- Accuracy: 0.5828\n",
            "- F1 score: 0.6902\n",
            "- Precision: 0.5486\n",
            "- Recall: 0.9304\n",
            "- Roc Auc Score: 0.5832\n",
            "- COST: 297660.\n",
            "===================================\n",
            "\n",
            "\n",
            "K-Neighbors Classifier\n",
            "Model performance for Training set\n",
            "- Accuracy: 0.9814\n",
            "- F1 score: 0.9816\n",
            "- Precision: 0.9707\n",
            "- Recall: 0.9927\n",
            "- Roc Auc Score: 0.9814\n",
            "- COST: 110900.\n",
            "----------------------------------\n",
            "Model performance for Test set\n",
            "- Accuracy: 0.9744\n",
            "- F1 score: 0.9748\n",
            "- Precision: 0.9605\n",
            "- Recall: 0.9894\n",
            "- Roc Auc Score: 0.9744\n",
            "- COST: 39850.\n",
            "===================================\n",
            "\n",
            "\n",
            "XGBClassifier\n",
            "Model performance for Training set\n",
            "- Accuracy: 1.0000\n",
            "- F1 score: 1.0000\n",
            "- Precision: 1.0000\n",
            "- Recall: 1.0000\n",
            "- Roc Auc Score: 1.0000\n",
            "- COST: 0.\n",
            "----------------------------------\n",
            "Model performance for Test set\n",
            "- Accuracy: 0.9960\n",
            "- F1 score: 0.9960\n",
            "- Precision: 0.9935\n",
            "- Recall: 0.9986\n",
            "- Roc Auc Score: 0.9960\n",
            "- COST: 5460.\n",
            "===================================\n",
            "\n",
            "\n",
            "AdaBoost Classifier\n",
            "Model performance for Training set\n",
            "- Accuracy: 0.9749\n",
            "- F1 score: 0.9750\n",
            "- Precision: 0.9736\n",
            "- Recall: 0.9763\n",
            "- Roc Auc Score: 0.9749\n",
            "- COST: 339420.\n",
            "----------------------------------\n",
            "Model performance for Test set\n",
            "- Accuracy: 0.9756\n",
            "- F1 score: 0.9756\n",
            "- Precision: 0.9745\n",
            "- Recall: 0.9767\n",
            "- Roc Auc Score: 0.9756\n",
            "- COST: 83290.\n",
            "===================================\n",
            "\n",
            "\n"
          ]
        }
      ]
    },
    {
      "cell_type": "code",
      "source": [
        "report_knn"
      ],
      "metadata": {
        "colab": {
          "base_uri": "https://localhost:8080/",
          "height": 269
        },
        "id": "XW4ZTqhoehkF",
        "outputId": "ba6382a5-b27c-49dd-a38c-d14f3d059ca8"
      },
      "execution_count": 27,
      "outputs": [
        {
          "output_type": "execute_result",
          "data": {
            "text/plain": [
              "               Model Name    Cost\n",
              "5           XGBClassifier    5460\n",
              "0           Random Forest   13750\n",
              "1           Decision Tree   29250\n",
              "4  K-Neighbors Classifier   39850\n",
              "2       Gradient Boosting   44830\n",
              "6     AdaBoost Classifier   83290\n",
              "3     Logistic Regression  297660"
            ],
            "text/html": [
              "\n",
              "\n",
              "  <div id=\"df-ecc1a1f1-c5e5-47f1-b3b2-3f6ceaea9e39\">\n",
              "    <div class=\"colab-df-container\">\n",
              "      <div>\n",
              "<style scoped>\n",
              "    .dataframe tbody tr th:only-of-type {\n",
              "        vertical-align: middle;\n",
              "    }\n",
              "\n",
              "    .dataframe tbody tr th {\n",
              "        vertical-align: top;\n",
              "    }\n",
              "\n",
              "    .dataframe thead th {\n",
              "        text-align: right;\n",
              "    }\n",
              "</style>\n",
              "<table border=\"1\" class=\"dataframe\">\n",
              "  <thead>\n",
              "    <tr style=\"text-align: right;\">\n",
              "      <th></th>\n",
              "      <th>Model Name</th>\n",
              "      <th>Cost</th>\n",
              "    </tr>\n",
              "  </thead>\n",
              "  <tbody>\n",
              "    <tr>\n",
              "      <th>5</th>\n",
              "      <td>XGBClassifier</td>\n",
              "      <td>5460</td>\n",
              "    </tr>\n",
              "    <tr>\n",
              "      <th>0</th>\n",
              "      <td>Random Forest</td>\n",
              "      <td>13750</td>\n",
              "    </tr>\n",
              "    <tr>\n",
              "      <th>1</th>\n",
              "      <td>Decision Tree</td>\n",
              "      <td>29250</td>\n",
              "    </tr>\n",
              "    <tr>\n",
              "      <th>4</th>\n",
              "      <td>K-Neighbors Classifier</td>\n",
              "      <td>39850</td>\n",
              "    </tr>\n",
              "    <tr>\n",
              "      <th>2</th>\n",
              "      <td>Gradient Boosting</td>\n",
              "      <td>44830</td>\n",
              "    </tr>\n",
              "    <tr>\n",
              "      <th>6</th>\n",
              "      <td>AdaBoost Classifier</td>\n",
              "      <td>83290</td>\n",
              "    </tr>\n",
              "    <tr>\n",
              "      <th>3</th>\n",
              "      <td>Logistic Regression</td>\n",
              "      <td>297660</td>\n",
              "    </tr>\n",
              "  </tbody>\n",
              "</table>\n",
              "</div>\n",
              "      <button class=\"colab-df-convert\" onclick=\"convertToInteractive('df-ecc1a1f1-c5e5-47f1-b3b2-3f6ceaea9e39')\"\n",
              "              title=\"Convert this dataframe to an interactive table.\"\n",
              "              style=\"display:none;\">\n",
              "\n",
              "  <svg xmlns=\"http://www.w3.org/2000/svg\" height=\"24px\"viewBox=\"0 0 24 24\"\n",
              "       width=\"24px\">\n",
              "    <path d=\"M0 0h24v24H0V0z\" fill=\"none\"/>\n",
              "    <path d=\"M18.56 5.44l.94 2.06.94-2.06 2.06-.94-2.06-.94-.94-2.06-.94 2.06-2.06.94zm-11 1L8.5 8.5l.94-2.06 2.06-.94-2.06-.94L8.5 2.5l-.94 2.06-2.06.94zm10 10l.94 2.06.94-2.06 2.06-.94-2.06-.94-.94-2.06-.94 2.06-2.06.94z\"/><path d=\"M17.41 7.96l-1.37-1.37c-.4-.4-.92-.59-1.43-.59-.52 0-1.04.2-1.43.59L10.3 9.45l-7.72 7.72c-.78.78-.78 2.05 0 2.83L4 21.41c.39.39.9.59 1.41.59.51 0 1.02-.2 1.41-.59l7.78-7.78 2.81-2.81c.8-.78.8-2.07 0-2.86zM5.41 20L4 18.59l7.72-7.72 1.47 1.35L5.41 20z\"/>\n",
              "  </svg>\n",
              "      </button>\n",
              "\n",
              "\n",
              "\n",
              "    <div id=\"df-f1ec37b9-def2-4c6e-8291-d60caef29da5\">\n",
              "      <button class=\"colab-df-quickchart\" onclick=\"quickchart('df-f1ec37b9-def2-4c6e-8291-d60caef29da5')\"\n",
              "              title=\"Suggest charts.\"\n",
              "              style=\"display:none;\">\n",
              "\n",
              "<svg xmlns=\"http://www.w3.org/2000/svg\" height=\"24px\"viewBox=\"0 0 24 24\"\n",
              "     width=\"24px\">\n",
              "    <g>\n",
              "        <path d=\"M19 3H5c-1.1 0-2 .9-2 2v14c0 1.1.9 2 2 2h14c1.1 0 2-.9 2-2V5c0-1.1-.9-2-2-2zM9 17H7v-7h2v7zm4 0h-2V7h2v10zm4 0h-2v-4h2v4z\"/>\n",
              "    </g>\n",
              "</svg>\n",
              "      </button>\n",
              "    </div>\n",
              "\n",
              "<style>\n",
              "  .colab-df-quickchart {\n",
              "    background-color: #E8F0FE;\n",
              "    border: none;\n",
              "    border-radius: 50%;\n",
              "    cursor: pointer;\n",
              "    display: none;\n",
              "    fill: #1967D2;\n",
              "    height: 32px;\n",
              "    padding: 0 0 0 0;\n",
              "    width: 32px;\n",
              "  }\n",
              "\n",
              "  .colab-df-quickchart:hover {\n",
              "    background-color: #E2EBFA;\n",
              "    box-shadow: 0px 1px 2px rgba(60, 64, 67, 0.3), 0px 1px 3px 1px rgba(60, 64, 67, 0.15);\n",
              "    fill: #174EA6;\n",
              "  }\n",
              "\n",
              "  [theme=dark] .colab-df-quickchart {\n",
              "    background-color: #3B4455;\n",
              "    fill: #D2E3FC;\n",
              "  }\n",
              "\n",
              "  [theme=dark] .colab-df-quickchart:hover {\n",
              "    background-color: #434B5C;\n",
              "    box-shadow: 0px 1px 3px 1px rgba(0, 0, 0, 0.15);\n",
              "    filter: drop-shadow(0px 1px 2px rgba(0, 0, 0, 0.3));\n",
              "    fill: #FFFFFF;\n",
              "  }\n",
              "</style>\n",
              "\n",
              "    <script>\n",
              "      async function quickchart(key) {\n",
              "        const containerElement = document.querySelector('#' + key);\n",
              "        const charts = await google.colab.kernel.invokeFunction(\n",
              "            'suggestCharts', [key], {});\n",
              "      }\n",
              "    </script>\n",
              "\n",
              "      <script>\n",
              "\n",
              "function displayQuickchartButton(domScope) {\n",
              "  let quickchartButtonEl =\n",
              "    domScope.querySelector('#df-f1ec37b9-def2-4c6e-8291-d60caef29da5 button.colab-df-quickchart');\n",
              "  quickchartButtonEl.style.display =\n",
              "    google.colab.kernel.accessAllowed ? 'block' : 'none';\n",
              "}\n",
              "\n",
              "        displayQuickchartButton(document);\n",
              "      </script>\n",
              "      <style>\n",
              "    .colab-df-container {\n",
              "      display:flex;\n",
              "      flex-wrap:wrap;\n",
              "      gap: 12px;\n",
              "    }\n",
              "\n",
              "    .colab-df-convert {\n",
              "      background-color: #E8F0FE;\n",
              "      border: none;\n",
              "      border-radius: 50%;\n",
              "      cursor: pointer;\n",
              "      display: none;\n",
              "      fill: #1967D2;\n",
              "      height: 32px;\n",
              "      padding: 0 0 0 0;\n",
              "      width: 32px;\n",
              "    }\n",
              "\n",
              "    .colab-df-convert:hover {\n",
              "      background-color: #E2EBFA;\n",
              "      box-shadow: 0px 1px 2px rgba(60, 64, 67, 0.3), 0px 1px 3px 1px rgba(60, 64, 67, 0.15);\n",
              "      fill: #174EA6;\n",
              "    }\n",
              "\n",
              "    [theme=dark] .colab-df-convert {\n",
              "      background-color: #3B4455;\n",
              "      fill: #D2E3FC;\n",
              "    }\n",
              "\n",
              "    [theme=dark] .colab-df-convert:hover {\n",
              "      background-color: #434B5C;\n",
              "      box-shadow: 0px 1px 3px 1px rgba(0, 0, 0, 0.15);\n",
              "      filter: drop-shadow(0px 1px 2px rgba(0, 0, 0, 0.3));\n",
              "      fill: #FFFFFF;\n",
              "    }\n",
              "  </style>\n",
              "\n",
              "      <script>\n",
              "        const buttonEl =\n",
              "          document.querySelector('#df-ecc1a1f1-c5e5-47f1-b3b2-3f6ceaea9e39 button.colab-df-convert');\n",
              "        buttonEl.style.display =\n",
              "          google.colab.kernel.accessAllowed ? 'block' : 'none';\n",
              "\n",
              "        async function convertToInteractive(key) {\n",
              "          const element = document.querySelector('#df-ecc1a1f1-c5e5-47f1-b3b2-3f6ceaea9e39');\n",
              "          const dataTable =\n",
              "            await google.colab.kernel.invokeFunction('convertToInteractive',\n",
              "                                                     [key], {});\n",
              "          if (!dataTable) return;\n",
              "\n",
              "          const docLinkHtml = 'Like what you see? Visit the ' +\n",
              "            '<a target=\"_blank\" href=https://colab.research.google.com/notebooks/data_table.ipynb>data table notebook</a>'\n",
              "            + ' to learn more about interactive tables.';\n",
              "          element.innerHTML = '';\n",
              "          dataTable['output_type'] = 'display_data';\n",
              "          await google.colab.output.renderOutput(dataTable, element);\n",
              "          const docLink = document.createElement('div');\n",
              "          docLink.innerHTML = docLinkHtml;\n",
              "          element.appendChild(docLink);\n",
              "        }\n",
              "      </script>\n",
              "    </div>\n",
              "  </div>\n"
            ]
          },
          "metadata": {},
          "execution_count": 27
        }
      ]
    },
    {
      "cell_type": "code",
      "source": [
        "pip install miceforest"
      ],
      "metadata": {
        "id": "l6QG4MiYmouZ",
        "colab": {
          "base_uri": "https://localhost:8080/"
        },
        "outputId": "2985848b-2469-4d0a-b2a0-c54d484eeb3b"
      },
      "execution_count": 28,
      "outputs": [
        {
          "output_type": "stream",
          "name": "stdout",
          "text": [
            "Collecting miceforest\n",
            "  Downloading miceforest-5.6.3-py3-none-any.whl (57 kB)\n",
            "\u001b[?25l     \u001b[90m━━━━━━━━━━━━━━━━━━━━━━━━━━━━━━━━━━━━━━━━\u001b[0m \u001b[32m0.0/58.0 kB\u001b[0m \u001b[31m?\u001b[0m eta \u001b[36m-:--:--\u001b[0m\r\u001b[2K     \u001b[90m━━━━━━━━━━━━━━━━━━━━━━━━━━━━━━━━━━━━━━━━\u001b[0m \u001b[32m58.0/58.0 kB\u001b[0m \u001b[31m1.9 MB/s\u001b[0m eta \u001b[36m0:00:00\u001b[0m\n",
            "\u001b[?25hRequirement already satisfied: lightgbm>=3.3.1 in /usr/local/lib/python3.10/dist-packages (from miceforest) (3.3.5)\n",
            "Requirement already satisfied: numpy in /usr/local/lib/python3.10/dist-packages (from miceforest) (1.22.4)\n",
            "Collecting blosc (from miceforest)\n",
            "  Downloading blosc-1.11.1-cp310-cp310-manylinux_2_17_x86_64.manylinux2014_x86_64.whl (2.5 MB)\n",
            "\u001b[2K     \u001b[90m━━━━━━━━━━━━━━━━━━━━━━━━━━━━━━━━━━━━━━━━\u001b[0m \u001b[32m2.5/2.5 MB\u001b[0m \u001b[31m45.6 MB/s\u001b[0m eta \u001b[36m0:00:00\u001b[0m\n",
            "\u001b[?25hCollecting dill (from miceforest)\n",
            "  Downloading dill-0.3.7-py3-none-any.whl (115 kB)\n",
            "\u001b[2K     \u001b[90m━━━━━━━━━━━━━━━━━━━━━━━━━━━━━━━━━━━━━━\u001b[0m \u001b[32m115.3/115.3 kB\u001b[0m \u001b[31m15.1 MB/s\u001b[0m eta \u001b[36m0:00:00\u001b[0m\n",
            "\u001b[?25hRequirement already satisfied: wheel in /usr/local/lib/python3.10/dist-packages (from lightgbm>=3.3.1->miceforest) (0.41.0)\n",
            "Requirement already satisfied: scipy in /usr/local/lib/python3.10/dist-packages (from lightgbm>=3.3.1->miceforest) (1.10.1)\n",
            "Requirement already satisfied: scikit-learn!=0.22.0 in /usr/local/lib/python3.10/dist-packages (from lightgbm>=3.3.1->miceforest) (1.2.2)\n",
            "Requirement already satisfied: joblib>=1.1.1 in /usr/local/lib/python3.10/dist-packages (from scikit-learn!=0.22.0->lightgbm>=3.3.1->miceforest) (1.3.1)\n",
            "Requirement already satisfied: threadpoolctl>=2.0.0 in /usr/local/lib/python3.10/dist-packages (from scikit-learn!=0.22.0->lightgbm>=3.3.1->miceforest) (3.2.0)\n",
            "Installing collected packages: dill, blosc, miceforest\n",
            "Successfully installed blosc-1.11.1 dill-0.3.7 miceforest-5.6.3\n"
          ]
        }
      ]
    },
    {
      "cell_type": "code",
      "source": [
        "import miceforest as mf\n",
        "\n",
        "X_mice = X.copy()\n",
        "kernel = mf.ImputationKernel(\n",
        "  X_mice,\n",
        "  save_all_iterations=True,\n",
        "  random_state=1989\n",
        ")# Run the MICE algorithm for 3 iterations kernel.mice(3)"
      ],
      "metadata": {
        "id": "xjpZm_SRmowx"
      },
      "execution_count": 29,
      "outputs": []
    },
    {
      "cell_type": "code",
      "source": [
        "pip install miceforest"
      ],
      "metadata": {
        "colab": {
          "base_uri": "https://localhost:8080/"
        },
        "id": "dgJMiyq5mozZ",
        "outputId": "64eedba0-b3ce-496b-afc9-581a81f7180d"
      },
      "execution_count": 30,
      "outputs": [
        {
          "output_type": "stream",
          "name": "stdout",
          "text": [
            "Requirement already satisfied: miceforest in /usr/local/lib/python3.10/dist-packages (5.6.3)\n",
            "Requirement already satisfied: lightgbm>=3.3.1 in /usr/local/lib/python3.10/dist-packages (from miceforest) (3.3.5)\n",
            "Requirement already satisfied: numpy in /usr/local/lib/python3.10/dist-packages (from miceforest) (1.22.4)\n",
            "Requirement already satisfied: blosc in /usr/local/lib/python3.10/dist-packages (from miceforest) (1.11.1)\n",
            "Requirement already satisfied: dill in /usr/local/lib/python3.10/dist-packages (from miceforest) (0.3.7)\n",
            "Requirement already satisfied: wheel in /usr/local/lib/python3.10/dist-packages (from lightgbm>=3.3.1->miceforest) (0.41.0)\n",
            "Requirement already satisfied: scipy in /usr/local/lib/python3.10/dist-packages (from lightgbm>=3.3.1->miceforest) (1.10.1)\n",
            "Requirement already satisfied: scikit-learn!=0.22.0 in /usr/local/lib/python3.10/dist-packages (from lightgbm>=3.3.1->miceforest) (1.2.2)\n",
            "Requirement already satisfied: joblib>=1.1.1 in /usr/local/lib/python3.10/dist-packages (from scikit-learn!=0.22.0->lightgbm>=3.3.1->miceforest) (1.3.1)\n",
            "Requirement already satisfied: threadpoolctl>=2.0.0 in /usr/local/lib/python3.10/dist-packages (from scikit-learn!=0.22.0->lightgbm>=3.3.1->miceforest) (3.2.0)\n"
          ]
        }
      ]
    },
    {
      "cell_type": "code",
      "source": [
        "X_mice = kernel.complete_data()"
      ],
      "metadata": {
        "id": "qI8lTP1Bmo15"
      },
      "execution_count": 31,
      "outputs": []
    },
    {
      "cell_type": "code",
      "source": [
        "# fit robust scaler\n",
        "mice_pipeline = Pipeline(steps=[\n",
        "    ('RobustScaler', RobustScaler())\n",
        "])\n",
        "\n",
        "X_mice= mice_pipeline.fit_transform(X_mice)\n",
        "smt = SMOTETomek(random_state=42,sampling_strategy='minority', n_jobs=-1 )\n",
        "# Fit the model to generate the data.\n",
        "X_res, y_res = smt.fit_resample(X_mice, y)\n",
        "report_mice = evaluate_models(X_res, y_res, models)"
      ],
      "metadata": {
        "colab": {
          "base_uri": "https://localhost:8080/"
        },
        "id": "jfX6GmEFmo5X",
        "outputId": "3fe2c9c8-4711-4c00-ad06-b92531d19a8b"
      },
      "execution_count": 32,
      "outputs": [
        {
          "output_type": "stream",
          "name": "stdout",
          "text": [
            "Random Forest\n",
            "Model performance for Training set\n",
            "- Accuracy: 1.0000\n",
            "- F1 score: 1.0000\n",
            "- Precision: 1.0000\n",
            "- Recall: 1.0000\n",
            "- Roc Auc Score: 1.0000\n",
            "- COST: 0.\n",
            "----------------------------------\n",
            "Model performance for Test set\n",
            "- Accuracy: 0.9918\n",
            "- F1 score: 0.9919\n",
            "- Precision: 0.9875\n",
            "- Recall: 0.9963\n",
            "- Roc Auc Score: 0.9918\n",
            "- COST: 13890.\n",
            "===================================\n",
            "\n",
            "\n",
            "Decision Tree\n",
            "Model performance for Training set\n",
            "- Accuracy: 1.0000\n",
            "- F1 score: 1.0000\n",
            "- Precision: 1.0000\n",
            "- Recall: 1.0000\n",
            "- Roc Auc Score: 1.0000\n",
            "- COST: 0.\n",
            "----------------------------------\n",
            "Model performance for Test set\n",
            "- Accuracy: 0.9820\n",
            "- F1 score: 0.9821\n",
            "- Precision: 0.9776\n",
            "- Recall: 0.9866\n",
            "- Roc Auc Score: 0.9819\n",
            "- COST: 48590.\n",
            "===================================\n",
            "\n",
            "\n",
            "Gradient Boosting\n",
            "Model performance for Training set\n",
            "- Accuracy: 0.9854\n",
            "- F1 score: 0.9854\n",
            "- Precision: 0.9825\n",
            "- Recall: 0.9884\n",
            "- Roc Auc Score: 0.9854\n",
            "- COST: 166940.\n",
            "----------------------------------\n",
            "Model performance for Test set\n",
            "- Accuracy: 0.9814\n",
            "- F1 score: 0.9815\n",
            "- Precision: 0.9772\n",
            "- Recall: 0.9859\n",
            "- Roc Auc Score: 0.9814\n",
            "- COST: 51120.\n",
            "===================================\n",
            "\n",
            "\n",
            "Logistic Regression\n",
            "Model performance for Training set\n",
            "- Accuracy: 0.6124\n",
            "- F1 score: 0.7115\n",
            "- Precision: 0.5663\n",
            "- Recall: 0.9567\n",
            "- Roc Auc Score: 0.6127\n",
            "- COST: 812290.\n",
            "----------------------------------\n",
            "Model performance for Test set\n",
            "- Accuracy: 0.6073\n",
            "- F1 score: 0.7097\n",
            "- Precision: 0.5642\n",
            "- Recall: 0.9565\n",
            "- Roc Auc Score: 0.6060\n",
            "- COST: 205010.\n",
            "===================================\n",
            "\n",
            "\n",
            "K-Neighbors Classifier\n",
            "Model performance for Training set\n",
            "- Accuracy: 0.9792\n",
            "- F1 score: 0.9795\n",
            "- Precision: 0.9677\n",
            "- Recall: 0.9915\n",
            "- Roc Auc Score: 0.9792\n",
            "- COST: 128270.\n",
            "----------------------------------\n",
            "Model performance for Test set\n",
            "- Accuracy: 0.9704\n",
            "- F1 score: 0.9710\n",
            "- Precision: 0.9566\n",
            "- Recall: 0.9858\n",
            "- Roc Auc Score: 0.9703\n",
            "- COST: 53150.\n",
            "===================================\n",
            "\n",
            "\n",
            "XGBClassifier\n",
            "Model performance for Training set\n",
            "- Accuracy: 1.0000\n",
            "- F1 score: 1.0000\n",
            "- Precision: 1.0000\n",
            "- Recall: 1.0000\n",
            "- Roc Auc Score: 1.0000\n",
            "- COST: 0.\n",
            "----------------------------------\n",
            "Model performance for Test set\n",
            "- Accuracy: 0.9959\n",
            "- F1 score: 0.9960\n",
            "- Precision: 0.9928\n",
            "- Recall: 0.9991\n",
            "- Roc Auc Score: 0.9959\n",
            "- COST: 3510.\n",
            "===================================\n",
            "\n",
            "\n",
            "AdaBoost Classifier\n",
            "Model performance for Training set\n",
            "- Accuracy: 0.9758\n",
            "- F1 score: 0.9758\n",
            "- Precision: 0.9769\n",
            "- Recall: 0.9746\n",
            "- Roc Auc Score: 0.9758\n",
            "- COST: 361950.\n",
            "----------------------------------\n",
            "Model performance for Test set\n",
            "- Accuracy: 0.9742\n",
            "- F1 score: 0.9743\n",
            "- Precision: 0.9746\n",
            "- Recall: 0.9740\n",
            "- Roc Auc Score: 0.9742\n",
            "- COST: 93290.\n",
            "===================================\n",
            "\n",
            "\n"
          ]
        }
      ]
    },
    {
      "cell_type": "code",
      "source": [
        "# Create a pipeline with simple imputer with strategy constant and fill value 0\n",
        "constant_pipeline = Pipeline(steps=[\n",
        "    ('Imputer', SimpleImputer(strategy='constant', fill_value=0)),\n",
        "    ('RobustScaler', RobustScaler())\n",
        "])\n",
        "X_const =constant_pipeline.fit_transform(X)\n",
        "# Resampling the minority class. The strategy can be changed as required.\n",
        "smt = SMOTETomek(random_state=42,sampling_strategy='minority', n_jobs=-1 )\n",
        "# Fit the model to generate the data.\n",
        "X_res, y_res = smt.fit_resample(X_const, y)\n"
      ],
      "metadata": {
        "id": "mPAjTbLuneAM"
      },
      "execution_count": 33,
      "outputs": []
    },
    {
      "cell_type": "code",
      "source": [
        "# training the models\n",
        "report_const = evaluate_models(X_res, y_res, models)"
      ],
      "metadata": {
        "colab": {
          "base_uri": "https://localhost:8080/"
        },
        "id": "HFPS4rbUneDz",
        "outputId": "b51e7958-b42c-4bef-9bca-ace773386733"
      },
      "execution_count": 34,
      "outputs": [
        {
          "output_type": "stream",
          "name": "stdout",
          "text": [
            "Random Forest\n",
            "Model performance for Training set\n",
            "- Accuracy: 1.0000\n",
            "- F1 score: 1.0000\n",
            "- Precision: 1.0000\n",
            "- Recall: 1.0000\n",
            "- Roc Auc Score: 1.0000\n",
            "- COST: 0.\n",
            "----------------------------------\n",
            "Model performance for Test set\n",
            "- Accuracy: 0.9929\n",
            "- F1 score: 0.9929\n",
            "- Precision: 0.9893\n",
            "- Recall: 0.9966\n",
            "- Roc Auc Score: 0.9929\n",
            "- COST: 12760.\n",
            "===================================\n",
            "\n",
            "\n",
            "Decision Tree\n",
            "Model performance for Training set\n",
            "- Accuracy: 1.0000\n",
            "- F1 score: 1.0000\n",
            "- Precision: 1.0000\n",
            "- Recall: 1.0000\n",
            "- Roc Auc Score: 1.0000\n",
            "- COST: 0.\n",
            "----------------------------------\n",
            "Model performance for Test set\n",
            "- Accuracy: 0.9880\n",
            "- F1 score: 0.9881\n",
            "- Precision: 0.9819\n",
            "- Recall: 0.9943\n",
            "- Roc Auc Score: 0.9879\n",
            "- COST: 21290.\n",
            "===================================\n",
            "\n",
            "\n",
            "Gradient Boosting\n",
            "Model performance for Training set\n",
            "- Accuracy: 0.9830\n",
            "- F1 score: 0.9830\n",
            "- Precision: 0.9803\n",
            "- Recall: 0.9857\n",
            "- Roc Auc Score: 0.9830\n",
            "- COST: 205550.\n",
            "----------------------------------\n",
            "Model performance for Test set\n",
            "- Accuracy: 0.9806\n",
            "- F1 score: 0.9807\n",
            "- Precision: 0.9770\n",
            "- Recall: 0.9845\n",
            "- Roc Auc Score: 0.9806\n",
            "- COST: 56130.\n",
            "===================================\n",
            "\n",
            "\n",
            "Logistic Regression\n",
            "Model performance for Training set\n",
            "- Accuracy: 0.6694\n",
            "- F1 score: 0.7473\n",
            "- Precision: 0.6045\n",
            "- Recall: 0.9784\n",
            "- Roc Auc Score: 0.6696\n",
            "- COST: 481940.\n",
            "----------------------------------\n",
            "Model performance for Test set\n",
            "- Accuracy: 0.6687\n",
            "- F1 score: 0.7479\n",
            "- Precision: 0.6047\n",
            "- Recall: 0.9800\n",
            "- Roc Auc Score: 0.6678\n",
            "- COST: 115560.\n",
            "===================================\n",
            "\n",
            "\n",
            "K-Neighbors Classifier\n",
            "Model performance for Training set\n",
            "- Accuracy: 0.9803\n",
            "- F1 score: 0.9805\n",
            "- Precision: 0.9682\n",
            "- Recall: 0.9932\n",
            "- Roc Auc Score: 0.9803\n",
            "- COST: 105130.\n",
            "----------------------------------\n",
            "Model performance for Test set\n",
            "- Accuracy: 0.9750\n",
            "- F1 score: 0.9754\n",
            "- Precision: 0.9626\n",
            "- Recall: 0.9885\n",
            "- Roc Auc Score: 0.9749\n",
            "- COST: 43200.\n",
            "===================================\n",
            "\n",
            "\n",
            "XGBClassifier\n",
            "Model performance for Training set\n",
            "- Accuracy: 1.0000\n",
            "- F1 score: 1.0000\n",
            "- Precision: 1.0000\n",
            "- Recall: 1.0000\n",
            "- Roc Auc Score: 1.0000\n",
            "- COST: 500.\n",
            "----------------------------------\n",
            "Model performance for Test set\n",
            "- Accuracy: 0.9961\n",
            "- F1 score: 0.9961\n",
            "- Precision: 0.9928\n",
            "- Recall: 0.9994\n",
            "- Roc Auc Score: 0.9961\n",
            "- COST: 2510.\n",
            "===================================\n",
            "\n",
            "\n",
            "AdaBoost Classifier\n",
            "Model performance for Training set\n",
            "- Accuracy: 0.9735\n",
            "- F1 score: 0.9735\n",
            "- Precision: 0.9731\n",
            "- Recall: 0.9739\n",
            "- Roc Auc Score: 0.9735\n",
            "- COST: 374050.\n",
            "----------------------------------\n",
            "Model performance for Test set\n",
            "- Accuracy: 0.9734\n",
            "- F1 score: 0.9735\n",
            "- Precision: 0.9745\n",
            "- Recall: 0.9724\n",
            "- Roc Auc Score: 0.9734\n",
            "- COST: 98790.\n",
            "===================================\n",
            "\n",
            "\n"
          ]
        }
      ]
    }
  ]
}